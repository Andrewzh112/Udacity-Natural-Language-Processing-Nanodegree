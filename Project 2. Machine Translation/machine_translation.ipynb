{
  "nbformat": 4,
  "nbformat_minor": 0,
  "metadata": {
    "kernelspec": {
      "display_name": "Python 3",
      "language": "python",
      "name": "python3"
    },
    "language_info": {
      "codemirror_mode": {
        "name": "ipython",
        "version": 3
      },
      "file_extension": ".py",
      "mimetype": "text/x-python",
      "name": "python",
      "nbconvert_exporter": "python",
      "pygments_lexer": "ipython3",
      "version": "3.7.6"
    },
    "colab": {
      "name": "machine_translation.ipynb",
      "provenance": [],
      "collapsed_sections": []
    },
    "accelerator": "GPU"
  },
  "cells": [
    {
      "cell_type": "markdown",
      "metadata": {
        "id": "EvEFXpvfw-7p",
        "colab_type": "text"
      },
      "source": [
        "# Artificial Intelligence Nanodegree\n",
        "## Machine Translation Project\n",
        "In this notebook, sections that end with **'(IMPLEMENTATION)'** in the header indicate that the following blocks of code will require additional functionality which you must provide. Please be sure to read the instructions carefully!\n",
        "\n",
        "## Introduction\n",
        "In this notebook, you will build a deep neural network that functions as part of an end-to-end machine translation pipeline. Your completed pipeline will accept English text as input and return the French translation.\n",
        "\n",
        "- **Preprocess** - You'll convert text to sequence of integers.\n",
        "- **Models** Create models which accepts a sequence of integers as input and returns a probability distribution over possible translations. After learning about the basic types of neural networks that are often used for machine translation, you will engage in your own investigations, to design your own model!\n",
        "- **Prediction** Run the model on English text."
      ]
    },
    {
      "cell_type": "code",
      "metadata": {
        "id": "BWaQ1BM0w-7r",
        "colab_type": "code",
        "colab": {}
      },
      "source": [
        "%load_ext autoreload\n",
        "%aimport helper, tests\n",
        "%autoreload 1"
      ],
      "execution_count": 0,
      "outputs": []
    },
    {
      "cell_type": "code",
      "metadata": {
        "id": "8s8Dp5Zyw-7z",
        "colab_type": "code",
        "colab": {
          "base_uri": "https://localhost:8080/",
          "height": 34
        },
        "outputId": "26a8acc8-53e1-4d07-e214-3f790053681b"
      },
      "source": [
        "import collections\n",
        "\n",
        "import helper\n",
        "import numpy as np\n",
        "import project_tests as tests\n",
        "\n",
        "from keras.preprocessing.text import Tokenizer\n",
        "from keras.preprocessing.sequence import pad_sequences\n",
        "from keras.models import Model\n",
        "from keras.layers import GRU, Input, Dense, TimeDistributed, Activation, RepeatVector, Bidirectional, LSTM\n",
        "from keras.layers.embeddings import Embedding\n",
        "from keras.optimizers import Adam\n",
        "from keras.losses import sparse_categorical_crossentropy"
      ],
      "execution_count": 4,
      "outputs": [
        {
          "output_type": "stream",
          "text": [
            "Using TensorFlow backend.\n"
          ],
          "name": "stderr"
        }
      ]
    },
    {
      "cell_type": "markdown",
      "metadata": {
        "id": "CltNabSww-76",
        "colab_type": "text"
      },
      "source": [
        "### Verify access to the GPU\n",
        "The following test applies only if you expect to be using a GPU, e.g., while running in a Udacity Workspace or using an AWS instance with GPU support. Run the next cell, and verify that the device_type is \"GPU\".\n",
        "- If the device is not GPU & you are running from a Udacity Workspace, then save your workspace with the icon at the top, then click \"enable\" at the bottom of the workspace.\n",
        "- If the device is not GPU & you are running from an AWS instance, then refer to the cloud computing instructions in the classroom to verify your setup steps."
      ]
    },
    {
      "cell_type": "code",
      "metadata": {
        "id": "aLQHjbW3w-78",
        "colab_type": "code",
        "colab": {
          "base_uri": "https://localhost:8080/",
          "height": 544
        },
        "outputId": "decd6434-eddc-43f9-ce24-f8c049d1b058"
      },
      "source": [
        "from tensorflow.python.client import device_lib\n",
        "print(device_lib.list_local_devices())"
      ],
      "execution_count": 5,
      "outputs": [
        {
          "output_type": "stream",
          "text": [
            "[name: \"/device:CPU:0\"\n",
            "device_type: \"CPU\"\n",
            "memory_limit: 268435456\n",
            "locality {\n",
            "}\n",
            "incarnation: 5557170892720170341\n",
            ", name: \"/device:XLA_CPU:0\"\n",
            "device_type: \"XLA_CPU\"\n",
            "memory_limit: 17179869184\n",
            "locality {\n",
            "}\n",
            "incarnation: 2499693354039967455\n",
            "physical_device_desc: \"device: XLA_CPU device\"\n",
            ", name: \"/device:XLA_GPU:0\"\n",
            "device_type: \"XLA_GPU\"\n",
            "memory_limit: 17179869184\n",
            "locality {\n",
            "}\n",
            "incarnation: 1082378248089232391\n",
            "physical_device_desc: \"device: XLA_GPU device\"\n",
            ", name: \"/device:GPU:0\"\n",
            "device_type: \"GPU\"\n",
            "memory_limit: 7304675328\n",
            "locality {\n",
            "  bus_id: 1\n",
            "  links {\n",
            "  }\n",
            "}\n",
            "incarnation: 15080482220702812155\n",
            "physical_device_desc: \"device: 0, name: Tesla P4, pci bus id: 0000:00:04.0, compute capability: 6.1\"\n",
            "]\n"
          ],
          "name": "stdout"
        }
      ]
    },
    {
      "cell_type": "markdown",
      "metadata": {
        "id": "29pb03C3w-8D",
        "colab_type": "text"
      },
      "source": [
        "## Dataset\n",
        "We begin by investigating the dataset that will be used to train and evaluate your pipeline.  The most common datasets used for machine translation are from [WMT](http://www.statmt.org/).  However, that will take a long time to train a neural network on.  We'll be using a dataset we created for this project that contains a small vocabulary.  You'll be able to train your model in a reasonable time with this dataset.\n",
        "### Load Data\n",
        "The data is located in `data/small_vocab_en` and `data/small_vocab_fr`. The `small_vocab_en` file contains English sentences with their French translations in the `small_vocab_fr` file. Load the English and French data from these files from running the cell below."
      ]
    },
    {
      "cell_type": "code",
      "metadata": {
        "id": "0uDwws_9w-8G",
        "colab_type": "code",
        "colab": {
          "base_uri": "https://localhost:8080/",
          "height": 34
        },
        "outputId": "83c77b29-8376-431a-85e5-af1156d6b05b"
      },
      "source": [
        "# Load English data\n",
        "english_sentences = helper.load_data('data/small_vocab_en')\n",
        "# Load French data\n",
        "french_sentences = helper.load_data('data/small_vocab_fr')\n",
        "\n",
        "print('Dataset Loaded')"
      ],
      "execution_count": 6,
      "outputs": [
        {
          "output_type": "stream",
          "text": [
            "Dataset Loaded\n"
          ],
          "name": "stdout"
        }
      ]
    },
    {
      "cell_type": "markdown",
      "metadata": {
        "id": "XHw6DMXvw-8N",
        "colab_type": "text"
      },
      "source": [
        "### Files\n",
        "Each line in `small_vocab_en` contains an English sentence with the respective translation in each line of `small_vocab_fr`.  View the first two lines from each file."
      ]
    },
    {
      "cell_type": "code",
      "metadata": {
        "id": "B2ey3-8ww-8O",
        "colab_type": "code",
        "colab": {
          "base_uri": "https://localhost:8080/",
          "height": 85
        },
        "outputId": "f3956f2a-7f1a-4e7e-d04a-88add50af4ee"
      },
      "source": [
        "for sample_i in range(2):\n",
        "    print('small_vocab_en Line {}:  {}'.format(sample_i + 1, english_sentences[sample_i]))\n",
        "    print('small_vocab_fr Line {}:  {}'.format(sample_i + 1, french_sentences[sample_i]))"
      ],
      "execution_count": 7,
      "outputs": [
        {
          "output_type": "stream",
          "text": [
            "small_vocab_en Line 1:  new jersey is sometimes quiet during autumn , and it is snowy in april .\n",
            "small_vocab_fr Line 1:  new jersey est parfois calme pendant l' automne , et il est neigeux en avril .\n",
            "small_vocab_en Line 2:  the united states is usually chilly during july , and it is usually freezing in november .\n",
            "small_vocab_fr Line 2:  les états-unis est généralement froid en juillet , et il gèle habituellement en novembre .\n"
          ],
          "name": "stdout"
        }
      ]
    },
    {
      "cell_type": "markdown",
      "metadata": {
        "id": "x4qMruczw-8U",
        "colab_type": "text"
      },
      "source": [
        "From looking at the sentences, you can see they have been preprocessed already.  The puncuations have been delimited using spaces. All the text have been converted to lowercase.  This should save you some time, but the text requires more preprocessing.\n",
        "### Vocabulary\n",
        "The complexity of the problem is determined by the complexity of the vocabulary.  A more complex vocabulary is a more complex problem.  Let's look at the complexity of the dataset we'll be working with."
      ]
    },
    {
      "cell_type": "code",
      "metadata": {
        "id": "btdD2QYLw-8W",
        "colab_type": "code",
        "colab": {
          "base_uri": "https://localhost:8080/",
          "height": 170
        },
        "outputId": "b855fd64-e936-4617-cc15-21360b7e8544"
      },
      "source": [
        "english_words_counter = collections.Counter([word for sentence in english_sentences for word in sentence.split()])\n",
        "french_words_counter = collections.Counter([word for sentence in french_sentences for word in sentence.split()])\n",
        "\n",
        "print('{} English words.'.format(len([word for sentence in english_sentences for word in sentence.split()])))\n",
        "print('{} unique English words.'.format(len(english_words_counter)))\n",
        "print('10 Most common words in the English dataset:')\n",
        "print('\"' + '\" \"'.join(list(zip(*english_words_counter.most_common(10)))[0]) + '\"')\n",
        "print()\n",
        "print('{} French words.'.format(len([word for sentence in french_sentences for word in sentence.split()])))\n",
        "print('{} unique French words.'.format(len(french_words_counter)))\n",
        "print('10 Most common words in the French dataset:')\n",
        "print('\"' + '\" \"'.join(list(zip(*french_words_counter.most_common(10)))[0]) + '\"')"
      ],
      "execution_count": 8,
      "outputs": [
        {
          "output_type": "stream",
          "text": [
            "1823250 English words.\n",
            "227 unique English words.\n",
            "10 Most common words in the English dataset:\n",
            "\"is\" \",\" \".\" \"in\" \"it\" \"during\" \"the\" \"but\" \"and\" \"sometimes\"\n",
            "\n",
            "1961295 French words.\n",
            "355 unique French words.\n",
            "10 Most common words in the French dataset:\n",
            "\"est\" \".\" \",\" \"en\" \"il\" \"les\" \"mais\" \"et\" \"la\" \"parfois\"\n"
          ],
          "name": "stdout"
        }
      ]
    },
    {
      "cell_type": "markdown",
      "metadata": {
        "id": "mfY1xMR4w-8d",
        "colab_type": "text"
      },
      "source": [
        "For comparison, _Alice's Adventures in Wonderland_ contains 2,766 unique words of a total of 15,500 words.\n",
        "## Preprocess\n",
        "For this project, you won't use text data as input to your model. Instead, you'll convert the text into sequences of integers using the following preprocess methods:\n",
        "1. Tokenize the words into ids\n",
        "2. Add padding to make all the sequences the same length.\n",
        "\n",
        "Time to start preprocessing the data...\n",
        "### Tokenize (IMPLEMENTATION)\n",
        "For a neural network to predict on text data, it first has to be turned into data it can understand. Text data like \"dog\" is a sequence of ASCII character encodings.  Since a neural network is a series of multiplication and addition operations, the input data needs to be number(s).\n",
        "\n",
        "We can turn each character into a number or each word into a number.  These are called character and word ids, respectively.  Character ids are used for character level models that generate text predictions for each character.  A word level model uses word ids that generate text predictions for each word.  Word level models tend to learn better, since they are lower in complexity, so we'll use those.\n",
        "\n",
        "Turn each sentence into a sequence of words ids using Keras's [`Tokenizer`](https://keras.io/preprocessing/text/#tokenizer) function. Use this function to tokenize `english_sentences` and `french_sentences` in the cell below.\n",
        "\n",
        "Running the cell will run `tokenize` on sample data and show output for debugging."
      ]
    },
    {
      "cell_type": "code",
      "metadata": {
        "id": "ZRwDjJO5w-8e",
        "colab_type": "code",
        "colab": {
          "base_uri": "https://localhost:8080/",
          "height": 224
        },
        "outputId": "39218ab7-68a7-42d8-b1f2-70c52ab0a88e"
      },
      "source": [
        "def tokenize(x):\n",
        "    \"\"\"\n",
        "    Tokenize x\n",
        "    :param x: List of sentences/strings to be tokenized\n",
        "    :return: Tuple of (tokenized x data, tokenizer used to tokenize x)\n",
        "    \"\"\"\n",
        "    # TODO: Implement\n",
        "    x_tk = Tokenizer()\n",
        "    x_tk.fit_on_texts(x)\n",
        "    return x_tk.texts_to_sequences(x), x_tk\n",
        "tests.test_tokenize(tokenize)\n",
        "\n",
        "# Tokenize Example output\n",
        "text_sentences = [\n",
        "    'The quick brown fox jumps over the lazy dog .',\n",
        "    'By Jove , my quick study of lexicography won a prize .',\n",
        "    'This is a short sentence .']\n",
        "text_tokenized, text_tokenizer = tokenize(text_sentences)\n",
        "print(text_tokenizer.word_index)\n",
        "print()\n",
        "for sample_i, (sent, token_sent) in enumerate(zip(text_sentences, text_tokenized)):\n",
        "    print('Sequence {} in x'.format(sample_i + 1))\n",
        "    print('  Input:  {}'.format(sent))\n",
        "    print('  Output: {}'.format(token_sent))"
      ],
      "execution_count": 9,
      "outputs": [
        {
          "output_type": "stream",
          "text": [
            "{'the': 1, 'quick': 2, 'a': 3, 'brown': 4, 'fox': 5, 'jumps': 6, 'over': 7, 'lazy': 8, 'dog': 9, 'by': 10, 'jove': 11, 'my': 12, 'study': 13, 'of': 14, 'lexicography': 15, 'won': 16, 'prize': 17, 'this': 18, 'is': 19, 'short': 20, 'sentence': 21}\n",
            "\n",
            "Sequence 1 in x\n",
            "  Input:  The quick brown fox jumps over the lazy dog .\n",
            "  Output: [1, 2, 4, 5, 6, 7, 1, 8, 9]\n",
            "Sequence 2 in x\n",
            "  Input:  By Jove , my quick study of lexicography won a prize .\n",
            "  Output: [10, 11, 12, 2, 13, 14, 15, 16, 3, 17]\n",
            "Sequence 3 in x\n",
            "  Input:  This is a short sentence .\n",
            "  Output: [18, 19, 3, 20, 21]\n"
          ],
          "name": "stdout"
        }
      ]
    },
    {
      "cell_type": "markdown",
      "metadata": {
        "id": "Y0AVRMJPw-8l",
        "colab_type": "text"
      },
      "source": [
        "### Padding (IMPLEMENTATION)\n",
        "When batching the sequence of word ids together, each sequence needs to be the same length.  Since sentences are dynamic in length, we can add padding to the end of the sequences to make them the same length.\n",
        "\n",
        "Make sure all the English sequences have the same length and all the French sequences have the same length by adding padding to the **end** of each sequence using Keras's [`pad_sequences`](https://keras.io/preprocessing/sequence/#pad_sequences) function."
      ]
    },
    {
      "cell_type": "code",
      "metadata": {
        "id": "pSD-_kWGw-8m",
        "colab_type": "code",
        "colab": {
          "base_uri": "https://localhost:8080/",
          "height": 170
        },
        "outputId": "f71ba5be-a827-4edc-dba1-81b3d2d408d1"
      },
      "source": [
        "def pad(x, length=None):\n",
        "    \"\"\"\n",
        "    Pad x\n",
        "    :param x: List of sequences.\n",
        "    :param length: Length to pad the sequence to.  If None, use length of longest sequence in x.\n",
        "    :return: Padded numpy array of sequences\n",
        "    \"\"\"\n",
        "    # TODO: Implement\n",
        "    if length is None:\n",
        "        length = max([len(sentence) for sentence in x])\n",
        "    return pad_sequences(x, maxlen=length, padding='post')\n",
        "tests.test_pad(pad)\n",
        "\n",
        "# Pad Tokenized output\n",
        "test_pad = pad(text_tokenized)\n",
        "for sample_i, (token_sent, pad_sent) in enumerate(zip(text_tokenized, test_pad)):\n",
        "    print('Sequence {} in x'.format(sample_i + 1))\n",
        "    print('  Input:  {}'.format(np.array(token_sent)))\n",
        "    print('  Output: {}'.format(pad_sent))"
      ],
      "execution_count": 10,
      "outputs": [
        {
          "output_type": "stream",
          "text": [
            "Sequence 1 in x\n",
            "  Input:  [1 2 4 5 6 7 1 8 9]\n",
            "  Output: [1 2 4 5 6 7 1 8 9 0]\n",
            "Sequence 2 in x\n",
            "  Input:  [10 11 12  2 13 14 15 16  3 17]\n",
            "  Output: [10 11 12  2 13 14 15 16  3 17]\n",
            "Sequence 3 in x\n",
            "  Input:  [18 19  3 20 21]\n",
            "  Output: [18 19  3 20 21  0  0  0  0  0]\n"
          ],
          "name": "stdout"
        }
      ]
    },
    {
      "cell_type": "markdown",
      "metadata": {
        "id": "G8jF4DKvw-8w",
        "colab_type": "text"
      },
      "source": [
        "### Preprocess Pipeline\n",
        "Your focus for this project is to build neural network architecture, so we won't ask you to create a preprocess pipeline.  Instead, we've provided you with the implementation of the `preprocess` function."
      ]
    },
    {
      "cell_type": "code",
      "metadata": {
        "id": "x7yVM6iow-8y",
        "colab_type": "code",
        "colab": {
          "base_uri": "https://localhost:8080/",
          "height": 102
        },
        "outputId": "8cb6d5f0-b9e2-466b-f770-3b3e8dd56ca5"
      },
      "source": [
        "def preprocess(x, y):\n",
        "    \"\"\"\n",
        "    Preprocess x and y\n",
        "    :param x: Feature List of sentences\n",
        "    :param y: Label List of sentences\n",
        "    :return: Tuple of (Preprocessed x, Preprocessed y, x tokenizer, y tokenizer)\n",
        "    \"\"\"\n",
        "    preprocess_x, x_tk = tokenize(x)\n",
        "    preprocess_y, y_tk = tokenize(y)\n",
        "\n",
        "    preprocess_x = pad(preprocess_x)\n",
        "    preprocess_y = pad(preprocess_y)\n",
        "\n",
        "    # Keras's sparse_categorical_crossentropy function requires the labels to be in 3 dimensions\n",
        "    preprocess_y = preprocess_y.reshape(*preprocess_y.shape, 1)\n",
        "\n",
        "    return preprocess_x, preprocess_y, x_tk, y_tk\n",
        "\n",
        "preproc_english_sentences, preproc_french_sentences, english_tokenizer, french_tokenizer =\\\n",
        "    preprocess(english_sentences, french_sentences)\n",
        "    \n",
        "max_english_sequence_length = preproc_english_sentences.shape[1]\n",
        "max_french_sequence_length = preproc_french_sentences.shape[1]\n",
        "english_vocab_size = len(english_tokenizer.word_index)\n",
        "french_vocab_size = len(french_tokenizer.word_index)\n",
        "\n",
        "print('Data Preprocessed')\n",
        "print(\"Max English sentence length:\", max_english_sequence_length)\n",
        "print(\"Max French sentence length:\", max_french_sequence_length)\n",
        "print(\"English vocabulary size:\", english_vocab_size)\n",
        "print(\"French vocabulary size:\", french_vocab_size)"
      ],
      "execution_count": 11,
      "outputs": [
        {
          "output_type": "stream",
          "text": [
            "Data Preprocessed\n",
            "Max English sentence length: 15\n",
            "Max French sentence length: 21\n",
            "English vocabulary size: 199\n",
            "French vocabulary size: 344\n"
          ],
          "name": "stdout"
        }
      ]
    },
    {
      "cell_type": "markdown",
      "metadata": {
        "id": "AzC1UBxIw-85",
        "colab_type": "text"
      },
      "source": [
        "## Models\n",
        "In this section, you will experiment with various neural network architectures.\n",
        "You will begin by training four relatively simple architectures.\n",
        "- Model 1 is a simple RNN\n",
        "- Model 2 is a RNN with Embedding\n",
        "- Model 3 is a Bidirectional RNN\n",
        "- Model 4 is an optional Encoder-Decoder RNN\n",
        "\n",
        "After experimenting with the four simple architectures, you will construct a deeper architecture that is designed to outperform all four models.\n",
        "### Ids Back to Text\n",
        "The neural network will be translating the input to words ids, which isn't the final form we want.  We want the French translation.  The function `logits_to_text` will bridge the gab between the logits from the neural network to the French translation.  You'll be using this function to better understand the output of the neural network."
      ]
    },
    {
      "cell_type": "code",
      "metadata": {
        "id": "nyyGd8Q9w-88",
        "colab_type": "code",
        "colab": {
          "base_uri": "https://localhost:8080/",
          "height": 34
        },
        "outputId": "c3a4408a-5cd4-47b1-d104-003d0edb0286"
      },
      "source": [
        "def logits_to_text(logits, tokenizer):\n",
        "    \"\"\"\n",
        "    Turn logits from a neural network into text using the tokenizer\n",
        "    :param logits: Logits from a neural network\n",
        "    :param tokenizer: Keras Tokenizer fit on the labels\n",
        "    :return: String that represents the text of the logits\n",
        "    \"\"\"\n",
        "    index_to_words = {id: word for word, id in tokenizer.word_index.items()}\n",
        "    index_to_words[0] = '<PAD>'\n",
        "\n",
        "    return ' '.join([index_to_words[prediction] for prediction in np.argmax(logits, 1)])\n",
        "\n",
        "print('`logits_to_text` function loaded.')"
      ],
      "execution_count": 12,
      "outputs": [
        {
          "output_type": "stream",
          "text": [
            "`logits_to_text` function loaded.\n"
          ],
          "name": "stdout"
        }
      ]
    },
    {
      "cell_type": "markdown",
      "metadata": {
        "id": "8Z6z_P5aw-9H",
        "colab_type": "text"
      },
      "source": [
        "### Model 1: RNN (IMPLEMENTATION)\n",
        "![RNN](images/rnn.png)\n",
        "A basic RNN model is a good baseline for sequence data.  In this model, you'll build a RNN that translates English to French."
      ]
    },
    {
      "cell_type": "code",
      "metadata": {
        "id": "WQ8hHAtiw-9L",
        "colab_type": "code",
        "colab": {
          "base_uri": "https://localhost:8080/",
          "height": 391
        },
        "outputId": "b1a5ed86-1f38-4360-a402-0381840dc49f"
      },
      "source": [
        "def simple_model(input_shape, output_sequence_length, english_vocab_size, french_vocab_size):\n",
        "    \"\"\"\n",
        "    Build and train a basic RNN on x and y\n",
        "    :param input_shape: Tuple of input shape\n",
        "    :param output_sequence_length: Length of output sequence\n",
        "    :param english_vocab_size: Number of unique English words in the dataset\n",
        "    :param french_vocab_size: Number of unique French words in the dataset\n",
        "    :return: Keras model built, but not trained\n",
        "    \"\"\"\n",
        "    # TODO: Build the layers\n",
        "    learning_rate = 1e-3\n",
        "    \n",
        "    input_seq = Input(input_shape[1:])\n",
        "    rnn = GRU(64, return_sequences=True)(input_seq)\n",
        "    logits = TimeDistributed(Dense(french_vocab_size))(rnn)\n",
        "\n",
        "    model = Model(input_seq, Activation('softmax')(logits))\n",
        "    model.compile(loss=sparse_categorical_crossentropy,\n",
        "                  optimizer=Adam(learning_rate),\n",
        "                  metrics=['accuracy'])\n",
        "    return model\n",
        "tests.test_simple_model(simple_model)\n",
        "\n",
        "# Reshaping the input to work with a basic RNN\n",
        "tmp_x = pad(preproc_english_sentences, max_french_sequence_length)\n",
        "tmp_x = tmp_x.reshape((-1, preproc_french_sentences.shape[-2], 1))\n",
        "\n",
        "# Train the neural network\n",
        "simple_rnn_model = simple_model(\n",
        "    tmp_x.shape,\n",
        "    max_french_sequence_length,\n",
        "    english_vocab_size+1,\n",
        "    french_vocab_size+1)\n",
        "simple_rnn_model.fit(tmp_x, preproc_french_sentences, batch_size=1024, epochs=10, validation_split=0.2)\n",
        "\n",
        "# Print prediction(s)\n",
        "print(logits_to_text(simple_rnn_model.predict(tmp_x[:1])[0], french_tokenizer))"
      ],
      "execution_count": 14,
      "outputs": [
        {
          "output_type": "stream",
          "text": [
            "Train on 110288 samples, validate on 27573 samples\n",
            "Epoch 1/10\n",
            "110288/110288 [==============================] - 9s 83us/step - loss: 3.4832 - accuracy: 0.4040 - val_loss: 2.5869 - val_accuracy: 0.4550\n",
            "Epoch 2/10\n",
            "110288/110288 [==============================] - 7s 64us/step - loss: 2.4675 - accuracy: 0.4618 - val_loss: 2.3480 - val_accuracy: 0.4723\n",
            "Epoch 3/10\n",
            "110288/110288 [==============================] - 7s 65us/step - loss: 2.2371 - accuracy: 0.4979 - val_loss: 2.1179 - val_accuracy: 0.5251\n",
            "Epoch 4/10\n",
            "110288/110288 [==============================] - 7s 64us/step - loss: 2.0124 - accuracy: 0.5440 - val_loss: 1.9124 - val_accuracy: 0.5632\n",
            "Epoch 5/10\n",
            "110288/110288 [==============================] - 7s 63us/step - loss: 1.8434 - accuracy: 0.5693 - val_loss: 1.7820 - val_accuracy: 0.5754\n",
            "Epoch 6/10\n",
            "110288/110288 [==============================] - 7s 64us/step - loss: 1.7336 - accuracy: 0.5783 - val_loss: 1.6859 - val_accuracy: 0.5812\n",
            "Epoch 7/10\n",
            "110288/110288 [==============================] - 7s 63us/step - loss: 1.6470 - accuracy: 0.5843 - val_loss: 1.6118 - val_accuracy: 0.5899\n",
            "Epoch 8/10\n",
            "110288/110288 [==============================] - 7s 63us/step - loss: 1.5835 - accuracy: 0.5921 - val_loss: 1.5558 - val_accuracy: 0.5960\n",
            "Epoch 9/10\n",
            "110288/110288 [==============================] - 7s 63us/step - loss: 1.5314 - accuracy: 0.5982 - val_loss: 1.5071 - val_accuracy: 0.6043\n",
            "Epoch 10/10\n",
            "110288/110288 [==============================] - 7s 64us/step - loss: 1.4855 - accuracy: 0.6093 - val_loss: 1.4642 - val_accuracy: 0.6144\n",
            "la jersey est parfois parfois en en et il est il en en <PAD> <PAD> <PAD> <PAD> <PAD> <PAD> <PAD> <PAD>\n"
          ],
          "name": "stdout"
        }
      ]
    },
    {
      "cell_type": "markdown",
      "metadata": {
        "id": "LU0cswp9w-9R",
        "colab_type": "text"
      },
      "source": [
        "### Model 2: Embedding (IMPLEMENTATION)\n",
        "![RNN](images/embedding.png)\n",
        "You've turned the words into ids, but there's a better representation of a word.  This is called word embeddings.  An embedding is a vector representation of the word that is close to similar words in n-dimensional space, where the n represents the size of the embedding vectors.\n",
        "\n",
        "In this model, you'll create a RNN model using embedding."
      ]
    },
    {
      "cell_type": "code",
      "metadata": {
        "id": "Monnl99pw-9S",
        "colab_type": "code",
        "colab": {
          "base_uri": "https://localhost:8080/",
          "height": 445
        },
        "outputId": "3b3aec6a-8d2f-47ed-93b3-73955f645872"
      },
      "source": [
        "def embed_model(input_shape, output_sequence_length, english_vocab_size, french_vocab_size):\n",
        "    \"\"\"\n",
        "    Build and train a RNN model using word embedding on x and y\n",
        "    :param input_shape: Tuple of input shape\n",
        "    :param output_sequence_length: Length of output sequence\n",
        "    :param english_vocab_size: Number of unique English words in the dataset\n",
        "    :param french_vocab_size: Number of unique French words in the dataset\n",
        "    :return: Keras model built, but not trained\n",
        "    \"\"\"\n",
        "    # TODO: Implement\n",
        "    learning_rate = 1e-3\n",
        "    \n",
        "    input_seq = Input(input_shape[1:])\n",
        "    embed = Embedding(english_vocab_size, 64, input_length=input_shape[1],trainable=True)(input_seq)\n",
        "    rnn = GRU(64, return_sequences=True)(embed)\n",
        "    logits = TimeDistributed(Dense(french_vocab_size))(rnn)\n",
        "\n",
        "    model = Model(input_seq, Activation('softmax')(logits))\n",
        "    model.compile(loss=sparse_categorical_crossentropy,\n",
        "                  optimizer=Adam(learning_rate),\n",
        "                  metrics=['accuracy'])\n",
        "    return model\n",
        "tests.test_embed_model(embed_model)\n",
        "\n",
        "\n",
        "# TODO: Reshape the input\n",
        "tmp_x = pad(preproc_english_sentences, max_french_sequence_length)\n",
        "\n",
        "# TODO: Train the neural network\n",
        "embed_rnn_model = embed_model(\n",
        "    tmp_x.shape,\n",
        "    max_french_sequence_length,\n",
        "    english_vocab_size+1,\n",
        "    french_vocab_size+1)\n",
        "embed_rnn_model.fit(tmp_x, preproc_french_sentences, batch_size=1024, epochs=10, validation_split=0.2)\n",
        "\n",
        "# TODO: Print prediction(s)\n",
        "print(logits_to_text(embed_rnn_model.predict(tmp_x[:1])[0], french_tokenizer))"
      ],
      "execution_count": 15,
      "outputs": [
        {
          "output_type": "stream",
          "text": [
            "/usr/local/lib/python3.6/dist-packages/tensorflow/python/framework/indexed_slices.py:434: UserWarning: Converting sparse IndexedSlices to a dense Tensor of unknown shape. This may consume a large amount of memory.\n",
            "  \"Converting sparse IndexedSlices to a dense Tensor of unknown shape. \"\n"
          ],
          "name": "stderr"
        },
        {
          "output_type": "stream",
          "text": [
            "Train on 110288 samples, validate on 27573 samples\n",
            "Epoch 1/10\n",
            "110288/110288 [==============================] - 8s 72us/step - loss: 3.8086 - accuracy: 0.4010 - val_loss: 3.0236 - val_accuracy: 0.4093\n",
            "Epoch 2/10\n",
            "110288/110288 [==============================] - 7s 68us/step - loss: 2.7949 - accuracy: 0.4375 - val_loss: 2.4712 - val_accuracy: 0.4822\n",
            "Epoch 3/10\n",
            "110288/110288 [==============================] - 7s 67us/step - loss: 2.1377 - accuracy: 0.5234 - val_loss: 1.7946 - val_accuracy: 0.5820\n",
            "Epoch 4/10\n",
            "110288/110288 [==============================] - 8s 69us/step - loss: 1.5641 - accuracy: 0.6236 - val_loss: 1.3476 - val_accuracy: 0.6676\n",
            "Epoch 5/10\n",
            "110288/110288 [==============================] - 7s 66us/step - loss: 1.2051 - accuracy: 0.7070 - val_loss: 1.0802 - val_accuracy: 0.7365\n",
            "Epoch 6/10\n",
            "110288/110288 [==============================] - 7s 67us/step - loss: 0.9902 - accuracy: 0.7580 - val_loss: 0.9052 - val_accuracy: 0.7758\n",
            "Epoch 7/10\n",
            "110288/110288 [==============================] - 7s 67us/step - loss: 0.8441 - accuracy: 0.7865 - val_loss: 0.7837 - val_accuracy: 0.7974\n",
            "Epoch 8/10\n",
            "110288/110288 [==============================] - 7s 67us/step - loss: 0.7408 - accuracy: 0.8054 - val_loss: 0.6956 - val_accuracy: 0.8133\n",
            "Epoch 9/10\n",
            "110288/110288 [==============================] - 7s 67us/step - loss: 0.6626 - accuracy: 0.8201 - val_loss: 0.6260 - val_accuracy: 0.8273\n",
            "Epoch 10/10\n",
            "110288/110288 [==============================] - 7s 67us/step - loss: 0.6016 - accuracy: 0.8328 - val_loss: 0.5735 - val_accuracy: 0.8398\n",
            "new jersey est parfois calme en l' et il il est en en avril <PAD> <PAD> <PAD> <PAD> <PAD> <PAD> <PAD>\n"
          ],
          "name": "stdout"
        }
      ]
    },
    {
      "cell_type": "markdown",
      "metadata": {
        "id": "Msi3eldvw-9Y",
        "colab_type": "text"
      },
      "source": [
        "### Model 3: Bidirectional RNNs (IMPLEMENTATION)\n",
        "![RNN](images/bidirectional.png)\n",
        "One restriction of a RNN is that it can't see the future input, only the past.  This is where bidirectional recurrent neural networks come in.  They are able to see the future data."
      ]
    },
    {
      "cell_type": "code",
      "metadata": {
        "id": "xe5bno2Kw-9Z",
        "colab_type": "code",
        "colab": {
          "base_uri": "https://localhost:8080/",
          "height": 391
        },
        "outputId": "ad8f7b5c-4695-4c0c-ced3-5e61d2c80b70"
      },
      "source": [
        "def bd_model(input_shape, output_sequence_length, english_vocab_size, french_vocab_size):\n",
        "    \"\"\"\n",
        "    Build and train a bidirectional RNN model on x and y\n",
        "    :param input_shape: Tuple of input shape\n",
        "    :param output_sequence_length: Length of output sequence\n",
        "    :param english_vocab_size: Number of unique English words in the dataset\n",
        "    :param french_vocab_size: Number of unique French words in the dataset\n",
        "    :return: Keras model built, but not trained\n",
        "    \"\"\"\n",
        "    # TODO: Implement\n",
        "    learning_rate = 1e-3\n",
        "    \n",
        "    input_seq = Input(input_shape[1:])\n",
        "    rnn = Bidirectional(GRU(64, return_sequences=True))(input_seq)\n",
        "    logits = TimeDistributed(Dense(french_vocab_size))(rnn)\n",
        "\n",
        "    model = Model(input_seq, Activation('softmax')(logits))\n",
        "    model.compile(loss=sparse_categorical_crossentropy,\n",
        "                  optimizer=Adam(learning_rate),\n",
        "                  metrics=['accuracy'])\n",
        "    return model\n",
        "tests.test_bd_model(bd_model)\n",
        "\n",
        "\n",
        "# TODO: Train and Print prediction(s)\n",
        "tmp_x = pad(preproc_english_sentences, max_french_sequence_length)\n",
        "tmp_x = tmp_x.reshape((-1, preproc_french_sentences.shape[-2], 1))\n",
        "\n",
        "bidirectional_lstm_model = bd_model(\n",
        "    tmp_x.shape,\n",
        "    max_french_sequence_length,\n",
        "    english_vocab_size+1,\n",
        "    french_vocab_size+1)\n",
        "bidirectional_lstm_model.fit(tmp_x, preproc_french_sentences, batch_size=1024, epochs=10, validation_split=0.2)\n",
        "\n",
        "print(logits_to_text(simple_rnn_model.predict(tmp_x[:1])[0], french_tokenizer))"
      ],
      "execution_count": 16,
      "outputs": [
        {
          "output_type": "stream",
          "text": [
            "Train on 110288 samples, validate on 27573 samples\n",
            "Epoch 1/10\n",
            "110288/110288 [==============================] - 12s 112us/step - loss: 3.1428 - accuracy: 0.4847 - val_loss: 2.1496 - val_accuracy: 0.5374\n",
            "Epoch 2/10\n",
            "110288/110288 [==============================] - 11s 103us/step - loss: 1.9079 - accuracy: 0.5641 - val_loss: 1.7119 - val_accuracy: 0.5834\n",
            "Epoch 3/10\n",
            "110288/110288 [==============================] - 12s 106us/step - loss: 1.6107 - accuracy: 0.5920 - val_loss: 1.5331 - val_accuracy: 0.6006\n",
            "Epoch 4/10\n",
            "110288/110288 [==============================] - 12s 106us/step - loss: 1.4813 - accuracy: 0.6122 - val_loss: 1.4332 - val_accuracy: 0.6201\n",
            "Epoch 5/10\n",
            "110288/110288 [==============================] - 12s 104us/step - loss: 1.3950 - accuracy: 0.6273 - val_loss: 1.3583 - val_accuracy: 0.6341\n",
            "Epoch 6/10\n",
            "110288/110288 [==============================] - 11s 104us/step - loss: 1.3293 - accuracy: 0.6377 - val_loss: 1.3007 - val_accuracy: 0.6411\n",
            "Epoch 7/10\n",
            "110288/110288 [==============================] - 12s 104us/step - loss: 1.2786 - accuracy: 0.6445 - val_loss: 1.2556 - val_accuracy: 0.6482\n",
            "Epoch 8/10\n",
            "110288/110288 [==============================] - 12s 106us/step - loss: 1.2382 - accuracy: 0.6498 - val_loss: 1.2190 - val_accuracy: 0.6536\n",
            "Epoch 9/10\n",
            "110288/110288 [==============================] - 12s 105us/step - loss: 1.2030 - accuracy: 0.6555 - val_loss: 1.1867 - val_accuracy: 0.6599\n",
            "Epoch 10/10\n",
            "110288/110288 [==============================] - 12s 105us/step - loss: 1.1732 - accuracy: 0.6602 - val_loss: 1.1595 - val_accuracy: 0.6622\n",
            "la jersey est parfois parfois en en et il est il en en <PAD> <PAD> <PAD> <PAD> <PAD> <PAD> <PAD> <PAD>\n"
          ],
          "name": "stdout"
        }
      ]
    },
    {
      "cell_type": "markdown",
      "metadata": {
        "id": "s5Tblx1qw-9g",
        "colab_type": "text"
      },
      "source": [
        "### Model 4: Encoder-Decoder (OPTIONAL)\n",
        "Time to look at encoder-decoder models.  This model is made up of an encoder and decoder. The encoder creates a matrix representation of the sentence.  The decoder takes this matrix as input and predicts the translation as output.\n",
        "\n",
        "Create an encoder-decoder model in the cell below."
      ]
    },
    {
      "cell_type": "code",
      "metadata": {
        "id": "70Q9IVW7w-9g",
        "colab_type": "code",
        "colab": {
          "base_uri": "https://localhost:8080/",
          "height": 391
        },
        "outputId": "7fbb262b-3409-48ad-e3e0-30583f81b697"
      },
      "source": [
        "def encdec_model(input_shape, output_sequence_length, english_vocab_size, french_vocab_size):\n",
        "    \"\"\"\n",
        "    Build and train an encoder-decoder model on x and y\n",
        "    :param input_shape: Tuple of input shape\n",
        "    :param output_sequence_length: Length of output sequence\n",
        "    :param english_vocab_size: Number of unique English words in the dataset\n",
        "    :param french_vocab_size: Number of unique French words in the dataset\n",
        "    :return: Keras model built, but not trained\n",
        "    \"\"\"\n",
        "    # OPTIONAL: Implement\n",
        "    learning_rate = 1e-3\n",
        "\n",
        "    encoder_inputs = Input(input_shape[1:])\n",
        "    encoder = GRU(64, return_state=True)\n",
        "    encoder_outputs, state_h = encoder(encoder_inputs)\n",
        "\n",
        "    decoder_inputs = RepeatVector(output_sequence_length)(encoder_outputs)\n",
        "    decoder_gru = GRU(64, return_sequences=True, return_state=True)\n",
        "    decoder_outputs, _ = decoder_gru(decoder_inputs,\n",
        "                      initial_state=state_h)\n",
        "    \n",
        "    logits = TimeDistributed(Dense(units=french_vocab_size))(decoder_outputs) \n",
        "    model = Model(encoder_inputs, Activation('softmax')(logits))\n",
        "    model.compile(loss=sparse_categorical_crossentropy,\n",
        "                  optimizer=Adam(learning_rate),\n",
        "                  metrics=['accuracy'])\n",
        "     \n",
        "    return model   \n",
        "\n",
        "tests.test_encdec_model(encdec_model)\n",
        "\n",
        "\n",
        "# OPTIONAL: Train and Print prediction(s)\n",
        "tmp_x = pad(preproc_english_sentences, max_french_sequence_length)\n",
        "tmp_x = tmp_x.reshape((-1, preproc_french_sentences.shape[-2], 1))\n",
        "\n",
        "encdec_rnn_model = encdec_model(input_shape = tmp_x.shape,\n",
        "                output_sequence_length = max_french_sequence_length,\n",
        "                english_vocab_size = english_vocab_size+1,\n",
        "                french_vocab_size = french_vocab_size+1)\n",
        "    \n",
        "encdec_rnn_model.fit(tmp_x, preproc_french_sentences, batch_size=1024, epochs=10, validation_split=0.2) # callbacks=[tensorboard]\n",
        "print(logits_to_text(encdec_rnn_model.predict(tmp_x[:1])[0], french_tokenizer))"
      ],
      "execution_count": 25,
      "outputs": [
        {
          "output_type": "stream",
          "text": [
            "Train on 110288 samples, validate on 27573 samples\n",
            "Epoch 1/10\n",
            "110288/110288 [==============================] - 12s 111us/step - loss: 3.4443 - accuracy: 0.4219 - val_loss: 2.6441 - val_accuracy: 0.4590\n",
            "Epoch 2/10\n",
            "110288/110288 [==============================] - 12s 104us/step - loss: 2.4793 - accuracy: 0.4822 - val_loss: 2.3314 - val_accuracy: 0.4970\n",
            "Epoch 3/10\n",
            "110288/110288 [==============================] - 11s 103us/step - loss: 2.2674 - accuracy: 0.5036 - val_loss: 2.2019 - val_accuracy: 0.5089\n",
            "Epoch 4/10\n",
            "110288/110288 [==============================] - 12s 105us/step - loss: 2.1079 - accuracy: 0.5111 - val_loss: 1.9924 - val_accuracy: 0.5163\n",
            "Epoch 5/10\n",
            "110288/110288 [==============================] - 12s 105us/step - loss: 1.9239 - accuracy: 0.5279 - val_loss: 1.8661 - val_accuracy: 0.5399\n",
            "Epoch 6/10\n",
            "110288/110288 [==============================] - 11s 103us/step - loss: 1.8227 - accuracy: 0.5453 - val_loss: 1.7776 - val_accuracy: 0.5503\n",
            "Epoch 7/10\n",
            "110288/110288 [==============================] - 11s 104us/step - loss: 1.7401 - accuracy: 0.5567 - val_loss: 1.6998 - val_accuracy: 0.5645\n",
            "Epoch 8/10\n",
            "110288/110288 [==============================] - 12s 104us/step - loss: 1.6690 - accuracy: 0.5666 - val_loss: 1.6372 - val_accuracy: 0.5681\n",
            "Epoch 9/10\n",
            "110288/110288 [==============================] - 11s 103us/step - loss: 1.6146 - accuracy: 0.5716 - val_loss: 1.5914 - val_accuracy: 0.5734\n",
            "Epoch 10/10\n",
            "110288/110288 [==============================] - 11s 104us/step - loss: 1.5736 - accuracy: 0.5775 - val_loss: 1.5540 - val_accuracy: 0.5817\n",
            "new jersey est est en en mois mais il est est en en en <PAD> <PAD> <PAD> <PAD> <PAD> <PAD> <PAD>\n"
          ],
          "name": "stdout"
        }
      ]
    },
    {
      "cell_type": "markdown",
      "metadata": {
        "id": "lxY9P2U5w-9m",
        "colab_type": "text"
      },
      "source": [
        "### Model 5: Custom (IMPLEMENTATION)\n",
        "Use everything you learned from the previous models to create a model that incorporates embedding and a bidirectional rnn into one model."
      ]
    },
    {
      "cell_type": "code",
      "metadata": {
        "id": "J1NuQiC_w-9n",
        "colab_type": "code",
        "colab": {
          "base_uri": "https://localhost:8080/",
          "height": 462
        },
        "outputId": "ea291c77-24d7-4ff5-f863-c17fd62f7602"
      },
      "source": [
        "def model_final(input_shape, output_sequence_length, english_vocab_size, french_vocab_size):\n",
        "    \"\"\"\n",
        "    Build and train a model that incorporates embedding, encoder-decoder, and bidirectional RNN on x and y\n",
        "    :param input_shape: Tuple of input shape\n",
        "    :param output_sequence_length: Length of output sequence\n",
        "    :param english_vocab_size: Number of unique English words in the dataset\n",
        "    :param french_vocab_size: Number of unique French words in the dataset\n",
        "    :return: Keras model built, but not trained\n",
        "    \"\"\"\n",
        "    # TODO: Implement\n",
        "    learning_rate = 1e-3\n",
        "    \n",
        "    input_seq = Input(input_shape[1:])\n",
        "    embed = Embedding(english_vocab_size, 200, input_length=input_shape[1],trainable=True)(input_seq)\n",
        "    rnn = Bidirectional(GRU(128, return_sequences=True))(embed)\n",
        "    logits = TimeDistributed(Dense(french_vocab_size))(rnn)\n",
        "\n",
        "    model = Model(input_seq, Activation('softmax')(logits))\n",
        "    model.compile(loss=sparse_categorical_crossentropy,\n",
        "                  optimizer=Adam(learning_rate),\n",
        "                  metrics=['accuracy'])\n",
        "    return model\n",
        "# tests.test_model_final(model_final)\n",
        "\n",
        "\n",
        "print('Final Model Loaded')\n",
        "# TODO: Train the final model\n",
        "tmp_x = pad(preproc_english_sentences, max_french_sequence_length)\n",
        "\n",
        "final_model = model_final(\n",
        "    tmp_x.shape,\n",
        "    max_french_sequence_length,\n",
        "    english_vocab_size+1,\n",
        "    french_vocab_size+1)\n",
        "final_model.fit(tmp_x, preproc_french_sentences, batch_size=1024, epochs=10, validation_split=0.2)\n",
        "\n",
        "print(logits_to_text(final_model.predict(tmp_x[:1])[0], french_tokenizer))"
      ],
      "execution_count": 29,
      "outputs": [
        {
          "output_type": "stream",
          "text": [
            "Final Model Loaded\n"
          ],
          "name": "stdout"
        },
        {
          "output_type": "stream",
          "text": [
            "/usr/local/lib/python3.6/dist-packages/tensorflow/python/framework/indexed_slices.py:434: UserWarning: Converting sparse IndexedSlices to a dense Tensor of unknown shape. This may consume a large amount of memory.\n",
            "  \"Converting sparse IndexedSlices to a dense Tensor of unknown shape. \"\n"
          ],
          "name": "stderr"
        },
        {
          "output_type": "stream",
          "text": [
            "Train on 110288 samples, validate on 27573 samples\n",
            "Epoch 1/10\n",
            "110288/110288 [==============================] - 14s 130us/step - loss: 3.0699 - accuracy: 0.4512 - val_loss: 2.3383 - val_accuracy: 0.5013\n",
            "Epoch 2/10\n",
            "110288/110288 [==============================] - 13s 120us/step - loss: 1.8037 - accuracy: 0.5781 - val_loss: 1.3616 - val_accuracy: 0.6589\n",
            "Epoch 3/10\n",
            "110288/110288 [==============================] - 14s 123us/step - loss: 1.1367 - accuracy: 0.7160 - val_loss: 0.9495 - val_accuracy: 0.7572\n",
            "Epoch 4/10\n",
            "110288/110288 [==============================] - 14s 125us/step - loss: 0.8228 - accuracy: 0.7808 - val_loss: 0.7127 - val_accuracy: 0.8027\n",
            "Epoch 5/10\n",
            "110288/110288 [==============================] - 13s 121us/step - loss: 0.6361 - accuracy: 0.8190 - val_loss: 0.5659 - val_accuracy: 0.8356\n",
            "Epoch 6/10\n",
            "110288/110288 [==============================] - 14s 123us/step - loss: 0.5138 - accuracy: 0.8472 - val_loss: 0.4686 - val_accuracy: 0.8592\n",
            "Epoch 7/10\n",
            "110288/110288 [==============================] - 14s 123us/step - loss: 0.4299 - accuracy: 0.8706 - val_loss: 0.3974 - val_accuracy: 0.8806\n",
            "Epoch 8/10\n",
            "110288/110288 [==============================] - 13s 122us/step - loss: 0.3691 - accuracy: 0.8899 - val_loss: 0.3464 - val_accuracy: 0.8971\n",
            "Epoch 9/10\n",
            "110288/110288 [==============================] - 13s 121us/step - loss: 0.3248 - accuracy: 0.9037 - val_loss: 0.3105 - val_accuracy: 0.9079\n",
            "Epoch 10/10\n",
            "110288/110288 [==============================] - 14s 124us/step - loss: 0.2925 - accuracy: 0.9133 - val_loss: 0.2804 - val_accuracy: 0.9172\n",
            "new jersey est parfois calme pendant l' de l' automne automne en en <PAD> <PAD> <PAD> <PAD> <PAD> <PAD> <PAD> <PAD>\n"
          ],
          "name": "stdout"
        }
      ]
    },
    {
      "cell_type": "markdown",
      "metadata": {
        "id": "p3W0uIN1w-9x",
        "colab_type": "text"
      },
      "source": [
        "## Prediction (IMPLEMENTATION)"
      ]
    },
    {
      "cell_type": "code",
      "metadata": {
        "id": "vQoDmoh-w-9y",
        "colab_type": "code",
        "colab": {
          "base_uri": "https://localhost:8080/",
          "height": 1000
        },
        "outputId": "11b909eb-e8ac-4bd5-996d-c90017f78ea0"
      },
      "source": [
        "def final_predictions(x, y, x_tk, y_tk):\n",
        "    \"\"\"\n",
        "    Gets predictions using the final model\n",
        "    :param x: Preprocessed English data\n",
        "    :param y: Preprocessed French data\n",
        "    :param x_tk: English tokenizer\n",
        "    :param y_tk: French tokenizer\n",
        "    \"\"\"\n",
        "    # TODO: Train neural network using model_final\n",
        "\n",
        "    x = pad(x, max_french_sequence_length)\n",
        "\n",
        "    model = model_final(input_shape = x.shape,\n",
        "               output_sequence_length = y.shape[1],\n",
        "               english_vocab_size = len(x_tk.word_index)+1,\n",
        "               french_vocab_size = len(y_tk.word_index)+1)\n",
        "    model.fit(x, y, batch_size=1024, epochs=30)\n",
        "\n",
        "    ## DON'T EDIT ANYTHING BELOW THIS LINE\n",
        "    y_id_to_word = {value: key for key, value in y_tk.word_index.items()}\n",
        "    y_id_to_word[0] = '<PAD>'\n",
        "\n",
        "    sentence = 'he saw a old yellow truck'\n",
        "    sentence = [x_tk.word_index[word] for word in sentence.split()]\n",
        "    sentence = pad_sequences([sentence], maxlen=x.shape[-1], padding='post')\n",
        "    sentences = np.array([sentence[0], x[0]])\n",
        "    predictions = model.predict(sentences, len(sentences))\n",
        "\n",
        "    print('Sample 1:')\n",
        "    print(' '.join([y_id_to_word[np.argmax(x)] for x in predictions[0]]))\n",
        "    print('Il a vu un vieux camion jaune')\n",
        "    print('Sample 2:')\n",
        "    print(' '.join([y_id_to_word[np.argmax(x)] for x in predictions[1]]))\n",
        "    print(' '.join([y_id_to_word[np.max(x)] for x in y[0]]))\n",
        "\n",
        "\n",
        "final_predictions(preproc_english_sentences, preproc_french_sentences, english_tokenizer, french_tokenizer)"
      ],
      "execution_count": 31,
      "outputs": [
        {
          "output_type": "stream",
          "text": [
            "/usr/local/lib/python3.6/dist-packages/tensorflow/python/framework/indexed_slices.py:434: UserWarning: Converting sparse IndexedSlices to a dense Tensor of unknown shape. This may consume a large amount of memory.\n",
            "  \"Converting sparse IndexedSlices to a dense Tensor of unknown shape. \"\n"
          ],
          "name": "stderr"
        },
        {
          "output_type": "stream",
          "text": [
            "Epoch 1/30\n",
            "137861/137861 [==============================] - 18s 128us/step - loss: 2.7570 - accuracy: 0.4797\n",
            "Epoch 2/30\n",
            "137861/137861 [==============================] - 17s 123us/step - loss: 1.2576 - accuracy: 0.6878\n",
            "Epoch 3/30\n",
            "137861/137861 [==============================] - 17s 124us/step - loss: 0.7842 - accuracy: 0.7875\n",
            "Epoch 4/30\n",
            "137861/137861 [==============================] - 17s 124us/step - loss: 0.5600 - accuracy: 0.8364\n",
            "Epoch 5/30\n",
            "137861/137861 [==============================] - 17s 122us/step - loss: 0.4303 - accuracy: 0.8691\n",
            "Epoch 6/30\n",
            "137861/137861 [==============================] - 17s 122us/step - loss: 0.3482 - accuracy: 0.8950\n",
            "Epoch 7/30\n",
            "137861/137861 [==============================] - 17s 123us/step - loss: 0.2914 - accuracy: 0.9133\n",
            "Epoch 8/30\n",
            "137861/137861 [==============================] - 17s 122us/step - loss: 0.2520 - accuracy: 0.9254\n",
            "Epoch 9/30\n",
            "137861/137861 [==============================] - 17s 122us/step - loss: 0.2212 - accuracy: 0.9346\n",
            "Epoch 10/30\n",
            "137861/137861 [==============================] - 17s 120us/step - loss: 0.1974 - accuracy: 0.9420\n",
            "Epoch 11/30\n",
            "137861/137861 [==============================] - 17s 120us/step - loss: 0.1783 - accuracy: 0.9480\n",
            "Epoch 12/30\n",
            "137861/137861 [==============================] - 17s 120us/step - loss: 0.1623 - accuracy: 0.9528\n",
            "Epoch 13/30\n",
            "137861/137861 [==============================] - 17s 120us/step - loss: 0.1481 - accuracy: 0.9572\n",
            "Epoch 14/30\n",
            "137861/137861 [==============================] - 16s 119us/step - loss: 0.1385 - accuracy: 0.9600\n",
            "Epoch 15/30\n",
            "137861/137861 [==============================] - 17s 120us/step - loss: 0.1283 - accuracy: 0.9631\n",
            "Epoch 16/30\n",
            "137861/137861 [==============================] - 17s 121us/step - loss: 0.1202 - accuracy: 0.9655\n",
            "Epoch 17/30\n",
            "137861/137861 [==============================] - 16s 119us/step - loss: 0.1125 - accuracy: 0.9676\n",
            "Epoch 18/30\n",
            "137861/137861 [==============================] - 17s 122us/step - loss: 0.1059 - accuracy: 0.9695\n",
            "Epoch 19/30\n",
            "137861/137861 [==============================] - 17s 120us/step - loss: 0.1007 - accuracy: 0.9711\n",
            "Epoch 20/30\n",
            "137861/137861 [==============================] - 17s 122us/step - loss: 0.0955 - accuracy: 0.9724\n",
            "Epoch 21/30\n",
            "137861/137861 [==============================] - 17s 120us/step - loss: 0.0921 - accuracy: 0.9736\n",
            "Epoch 22/30\n",
            "137861/137861 [==============================] - 17s 121us/step - loss: 0.0877 - accuracy: 0.9748\n",
            "Epoch 23/30\n",
            "137861/137861 [==============================] - 17s 121us/step - loss: 0.0841 - accuracy: 0.9758\n",
            "Epoch 24/30\n",
            "137861/137861 [==============================] - 16s 119us/step - loss: 0.0814 - accuracy: 0.9766\n",
            "Epoch 25/30\n",
            "137861/137861 [==============================] - 17s 120us/step - loss: 0.0778 - accuracy: 0.9777\n",
            "Epoch 26/30\n",
            "137861/137861 [==============================] - 17s 121us/step - loss: 0.0745 - accuracy: 0.9785\n",
            "Epoch 27/30\n",
            "137861/137861 [==============================] - 16s 119us/step - loss: 0.0725 - accuracy: 0.9790\n",
            "Epoch 28/30\n",
            "137861/137861 [==============================] - 16s 120us/step - loss: 0.0699 - accuracy: 0.9797\n",
            "Epoch 29/30\n",
            "137861/137861 [==============================] - 17s 121us/step - loss: 0.0678 - accuracy: 0.9803\n",
            "Epoch 30/30\n",
            "137861/137861 [==============================] - 17s 121us/step - loss: 0.0658 - accuracy: 0.9808\n",
            "Sample 1:\n",
            "il a vu un vieux camion jaune <PAD> <PAD> <PAD> <PAD> <PAD> <PAD> <PAD> <PAD> <PAD> <PAD> <PAD> <PAD> <PAD> <PAD>\n",
            "Il a vu un vieux camion jaune\n",
            "Sample 2:\n",
            "new jersey est parfois calme pendant l' automne et il est neigeux en avril <PAD> <PAD> <PAD> <PAD> <PAD> <PAD> <PAD>\n",
            "new jersey est parfois calme pendant l' automne et il est neigeux en avril <PAD> <PAD> <PAD> <PAD> <PAD> <PAD> <PAD>\n"
          ],
          "name": "stdout"
        }
      ]
    },
    {
      "cell_type": "markdown",
      "metadata": {
        "id": "oxUjPRnQw-93",
        "colab_type": "text"
      },
      "source": [
        "## Submission\n",
        "When you're ready to submit, complete the following steps:\n",
        "1. Review the [rubric](https://review.udacity.com/#!/rubrics/1004/view) to ensure your submission meets all requirements to pass\n",
        "2. Generate an HTML version of this notebook\n",
        "\n",
        "  - Run the next cell to attempt automatic generation (this is the recommended method in Workspaces)\n",
        "  - Navigate to **FILE -> Download as -> HTML (.html)**\n",
        "  - Manually generate a copy using `nbconvert` from your shell terminal\n",
        "```\n",
        "$ pip install nbconvert\n",
        "$ python -m nbconvert machine_translation.ipynb\n",
        "```\n",
        "  \n",
        "3. Submit the project\n",
        "\n",
        "  - If you are in a Workspace, simply click the \"Submit Project\" button (bottom towards the right)\n",
        "  \n",
        "  - Otherwise, add the following files into a zip archive and submit them \n",
        "  - `helper.py`\n",
        "  - `machine_translation.ipynb`\n",
        "  - `machine_translation.html`\n",
        "    - You can export the notebook by navigating to **File -> Download as -> HTML (.html)**."
      ]
    },
    {
      "cell_type": "markdown",
      "metadata": {
        "id": "c_6vS55lw-95",
        "colab_type": "text"
      },
      "source": [
        "### Generate the html\n",
        "\n",
        "**Save your notebook before running the next cell to generate the HTML output.** Then submit your project."
      ]
    },
    {
      "cell_type": "code",
      "metadata": {
        "id": "dY_8WYOxw-96",
        "colab_type": "code",
        "colab": {}
      },
      "source": [
        "# Save before you run this cell!\n",
        "!!jupyter nbconvert *.ipynb"
      ],
      "execution_count": 0,
      "outputs": []
    },
    {
      "cell_type": "markdown",
      "metadata": {
        "id": "2EhWz8hFw--E",
        "colab_type": "text"
      },
      "source": [
        "## Optional Enhancements\n",
        "\n",
        "This project focuses on learning various network architectures for machine translation, but we don't evaluate the models according to best practices by splitting the data into separate test & training sets -- so the model accuracy is overstated. Use the [`sklearn.model_selection.train_test_split()`](http://scikit-learn.org/stable/modules/generated/sklearn.model_selection.train_test_split.html) function to create separate training & test datasets, then retrain each of the models using only the training set and evaluate the prediction accuracy using the hold out test set. Does the \"best\" model change?"
      ]
    },
    {
      "cell_type": "code",
      "metadata": {
        "id": "jarzHC-qxZmE",
        "colab_type": "code",
        "colab": {}
      },
      "source": [
        ""
      ],
      "execution_count": 0,
      "outputs": []
    }
  ]
}